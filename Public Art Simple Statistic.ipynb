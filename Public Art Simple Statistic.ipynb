{
 "cells": [
  {
   "cell_type": "code",
   "execution_count": 1,
   "metadata": {},
   "outputs": [],
   "source": [
    "import numpy as np\n",
    "import pandas as pd\n",
    "import geopandas as gp\n",
    "import matplotlib.pyplot as plt"
   ]
  },
  {
   "cell_type": "markdown",
   "metadata": {},
   "source": [
    "Download the file which has been cleaned in cultural_map.ipynb"
   ]
  },
  {
   "cell_type": "code",
   "execution_count": 2,
   "metadata": {
    "scrolled": false
   },
   "outputs": [
    {
     "data": {
      "text/html": [
       "<div>\n",
       "<style scoped>\n",
       "    .dataframe tbody tr th:only-of-type {\n",
       "        vertical-align: middle;\n",
       "    }\n",
       "\n",
       "    .dataframe tbody tr th {\n",
       "        vertical-align: top;\n",
       "    }\n",
       "\n",
       "    .dataframe thead th {\n",
       "        text-align: right;\n",
       "    }\n",
       "</style>\n",
       "<table border=\"1\" class=\"dataframe\">\n",
       "  <thead>\n",
       "    <tr style=\"text-align: right;\">\n",
       "      <th></th>\n",
       "      <th>Unnamed: 0</th>\n",
       "      <th>Name</th>\n",
       "      <th>y</th>\n",
       "      <th>x</th>\n",
       "      <th>Date</th>\n",
       "      <th>Sort</th>\n",
       "    </tr>\n",
       "  </thead>\n",
       "  <tbody>\n",
       "    <tr>\n",
       "      <th>0</th>\n",
       "      <td>0</td>\n",
       "      <td>Monument to Carl Linnaeus</td>\n",
       "      <td>55.966842</td>\n",
       "      <td>-3.207415</td>\n",
       "      <td>1778.0</td>\n",
       "      <td>Public art</td>\n",
       "    </tr>\n",
       "    <tr>\n",
       "      <th>1</th>\n",
       "      <td>1</td>\n",
       "      <td>Charles II</td>\n",
       "      <td>55.949200</td>\n",
       "      <td>-3.190500</td>\n",
       "      <td>1685.0</td>\n",
       "      <td>Public art</td>\n",
       "    </tr>\n",
       "    <tr>\n",
       "      <th>2</th>\n",
       "      <td>2</td>\n",
       "      <td>Monument to John Playfair</td>\n",
       "      <td>55.954800</td>\n",
       "      <td>-3.183000</td>\n",
       "      <td>1825.0</td>\n",
       "      <td>Public art</td>\n",
       "    </tr>\n",
       "    <tr>\n",
       "      <th>3</th>\n",
       "      <td>3</td>\n",
       "      <td>Monument to Dugald Stewart</td>\n",
       "      <td>55.954500</td>\n",
       "      <td>-3.184500</td>\n",
       "      <td>1831.0</td>\n",
       "      <td>Public art</td>\n",
       "    </tr>\n",
       "    <tr>\n",
       "      <th>4</th>\n",
       "      <td>4</td>\n",
       "      <td>Monument to Robert Burns</td>\n",
       "      <td>55.953500</td>\n",
       "      <td>-3.178300</td>\n",
       "      <td>1831.0</td>\n",
       "      <td>Public art</td>\n",
       "    </tr>\n",
       "    <tr>\n",
       "      <th>...</th>\n",
       "      <td>...</td>\n",
       "      <td>...</td>\n",
       "      <td>...</td>\n",
       "      <td>...</td>\n",
       "      <td>...</td>\n",
       "      <td>...</td>\n",
       "    </tr>\n",
       "    <tr>\n",
       "      <th>147</th>\n",
       "      <td>147</td>\n",
       "      <td>Poseidon</td>\n",
       "      <td>55.980129</td>\n",
       "      <td>-3.218357</td>\n",
       "      <td>2019.0</td>\n",
       "      <td>Street art</td>\n",
       "    </tr>\n",
       "    <tr>\n",
       "      <th>148</th>\n",
       "      <td>148</td>\n",
       "      <td>Figgate Park Wild life</td>\n",
       "      <td>55.951000</td>\n",
       "      <td>-3.122000</td>\n",
       "      <td>2015.0</td>\n",
       "      <td>Street art</td>\n",
       "    </tr>\n",
       "    <tr>\n",
       "      <th>149</th>\n",
       "      <td>149</td>\n",
       "      <td>Figgate Park Wild life</td>\n",
       "      <td>55.950000</td>\n",
       "      <td>-3.128000</td>\n",
       "      <td>2015.0</td>\n",
       "      <td>Street art</td>\n",
       "    </tr>\n",
       "    <tr>\n",
       "      <th>150</th>\n",
       "      <td>150</td>\n",
       "      <td>Figgate Park Wild life</td>\n",
       "      <td>55.951000</td>\n",
       "      <td>-3.126000</td>\n",
       "      <td>2015.0</td>\n",
       "      <td>Street art</td>\n",
       "    </tr>\n",
       "    <tr>\n",
       "      <th>151</th>\n",
       "      <td>151</td>\n",
       "      <td>Figgate Park Wild life</td>\n",
       "      <td>55.951000</td>\n",
       "      <td>-3.121000</td>\n",
       "      <td>2015.0</td>\n",
       "      <td>Street art</td>\n",
       "    </tr>\n",
       "  </tbody>\n",
       "</table>\n",
       "<p>152 rows × 6 columns</p>\n",
       "</div>"
      ],
      "text/plain": [
       "     Unnamed: 0                        Name          y         x    Date  \\\n",
       "0             0   Monument to Carl Linnaeus  55.966842 -3.207415  1778.0   \n",
       "1             1                  Charles II  55.949200 -3.190500  1685.0   \n",
       "2             2   Monument to John Playfair  55.954800 -3.183000  1825.0   \n",
       "3             3  Monument to Dugald Stewart  55.954500 -3.184500  1831.0   \n",
       "4             4    Monument to Robert Burns  55.953500 -3.178300  1831.0   \n",
       "..          ...                         ...        ...       ...     ...   \n",
       "147         147                    Poseidon  55.980129 -3.218357  2019.0   \n",
       "148         148      Figgate Park Wild life  55.951000 -3.122000  2015.0   \n",
       "149         149      Figgate Park Wild life  55.950000 -3.128000  2015.0   \n",
       "150         150      Figgate Park Wild life  55.951000 -3.126000  2015.0   \n",
       "151         151      Figgate Park Wild life  55.951000 -3.121000  2015.0   \n",
       "\n",
       "           Sort  \n",
       "0    Public art  \n",
       "1    Public art  \n",
       "2    Public art  \n",
       "3    Public art  \n",
       "4    Public art  \n",
       "..          ...  \n",
       "147  Street art  \n",
       "148  Street art  \n",
       "149  Street art  \n",
       "150  Street art  \n",
       "151  Street art  \n",
       "\n",
       "[152 rows x 6 columns]"
      ]
     },
     "execution_count": 2,
     "metadata": {},
     "output_type": "execute_result"
    }
   ],
   "source": [
    "Data = pd.read_csv(\"Publicart final(without year NaN).csv\")\n",
    "Data.drop(['Unnamed: 0'],axis = 1)\n",
    "Data"
   ]
  },
  {
   "cell_type": "markdown",
   "metadata": {},
   "source": [
    "How many public art are there in Edinburgh?"
   ]
  },
  {
   "cell_type": "code",
   "execution_count": 3,
   "metadata": {},
   "outputs": [
    {
     "data": {
      "text/plain": [
       "152"
      ]
     },
     "execution_count": 3,
     "metadata": {},
     "output_type": "execute_result"
    }
   ],
   "source": [
    "Total_public_art = Data['Name'].size\n",
    "Total_public_art"
   ]
  },
  {
   "cell_type": "markdown",
   "metadata": {},
   "source": [
    "When did the earliest public art appear in Edinburgh? "
   ]
  },
  {
   "cell_type": "code",
   "execution_count": 4,
   "metadata": {},
   "outputs": [
    {
     "data": {
      "text/plain": [
       "1685.0"
      ]
     },
     "execution_count": 4,
     "metadata": {},
     "output_type": "execute_result"
    }
   ],
   "source": [
    "Earliest_public_art = Data['Date'].min()\n",
    "Earliest_public_art"
   ]
  },
  {
   "cell_type": "markdown",
   "metadata": {},
   "source": [
    "When did the latest public art appear in Edinburgh?"
   ]
  },
  {
   "cell_type": "code",
   "execution_count": 5,
   "metadata": {},
   "outputs": [
    {
     "data": {
      "text/plain": [
       "2020.0"
      ]
     },
     "execution_count": 5,
     "metadata": {},
     "output_type": "execute_result"
    }
   ],
   "source": [
    "Latest_public_art = Data['Date'].max()\n",
    "Latest_public_art"
   ]
  },
  {
   "cell_type": "markdown",
   "metadata": {},
   "source": [
    "How much public art existed before in the 21th century？"
   ]
  },
  {
   "cell_type": "code",
   "execution_count": 6,
   "metadata": {},
   "outputs": [
    {
     "data": {
      "text/plain": [
       "43"
      ]
     },
     "execution_count": 6,
     "metadata": {},
     "output_type": "execute_result"
    }
   ],
   "source": [
    "NUM21th= Data.loc[Data['Date']>2000].shape[0]\n",
    "NUM21th"
   ]
  },
  {
   "cell_type": "markdown",
   "metadata": {},
   "source": [
    "How much public art existed in the 20th century？"
   ]
  },
  {
   "cell_type": "code",
   "execution_count": 7,
   "metadata": {},
   "outputs": [
    {
     "data": {
      "text/plain": [
       "61"
      ]
     },
     "execution_count": 7,
     "metadata": {},
     "output_type": "execute_result"
    }
   ],
   "source": [
    "NUM20th= Data.loc[(Data['Date']<=2000) & (Data['Date']>1900)].shape[0]\n",
    "NUM20th"
   ]
  },
  {
   "cell_type": "markdown",
   "metadata": {},
   "source": [
    "How much public art existed in the 19th century？"
   ]
  },
  {
   "cell_type": "code",
   "execution_count": 8,
   "metadata": {},
   "outputs": [
    {
     "data": {
      "text/plain": [
       "46"
      ]
     },
     "execution_count": 8,
     "metadata": {},
     "output_type": "execute_result"
    }
   ],
   "source": [
    "NUM19th= Data.loc[(Data['Date']<=1900) & (Data['Date']>1800)].shape[0]\n",
    "NUM19th"
   ]
  },
  {
   "cell_type": "markdown",
   "metadata": {},
   "source": [
    "How much public art existed before the 19th century？"
   ]
  },
  {
   "cell_type": "code",
   "execution_count": 9,
   "metadata": {},
   "outputs": [
    {
     "data": {
      "text/plain": [
       "2"
      ]
     },
     "execution_count": 9,
     "metadata": {},
     "output_type": "execute_result"
    }
   ],
   "source": [
    "Before19th= Data.loc[(Data['Date']<=1800)].shape[0]\n",
    "Before19th"
   ]
  },
  {
   "cell_type": "code",
   "execution_count": null,
   "metadata": {},
   "outputs": [],
   "source": []
  }
 ],
 "metadata": {
  "kernelspec": {
   "display_name": "Python 3",
   "language": "python",
   "name": "python3"
  },
  "language_info": {
   "codemirror_mode": {
    "name": "ipython",
    "version": 3
   },
   "file_extension": ".py",
   "mimetype": "text/x-python",
   "name": "python",
   "nbconvert_exporter": "python",
   "pygments_lexer": "ipython3",
   "version": "3.8.3"
  }
 },
 "nbformat": 4,
 "nbformat_minor": 4
}
